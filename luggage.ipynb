{
  "nbformat": 4,
  "nbformat_minor": 0,
  "metadata": {
    "colab": {
      "name": "bahasa_c",
      "provenance": [],
      "authorship_tag": "ABX9TyM3xtvQIT4go5VWWpeWoH02",
      "include_colab_link": true
    },
    "kernelspec": {
      "name": "python3",
      "display_name": "Python 3"
    },
    "language_info": {
      "name": "python"
    }
  },
  "cells": [
    {
      "cell_type": "markdown",
      "metadata": {
        "id": "view-in-github",
        "colab_type": "text"
      },
      "source": [
        "<a href=\"https://colab.research.google.com/github/stmayna/smallproject/blob/main/luggage.ipynb\" target=\"_parent\"><img src=\"https://colab.research.google.com/assets/colab-badge.svg\" alt=\"Open In Colab\"/></a>"
      ]
    },
    {
      "cell_type": "markdown",
      "source": [
        "To know the final ticket price given the initial price (p), luggage weight (w), and delay time (t)."
      ],
      "metadata": {
        "id": "Nu-2BJ2wT3Hh"
      }
    },
    {
      "cell_type": "code",
      "execution_count": null,
      "metadata": {
        "colab": {
          "base_uri": "https://localhost:8080/"
        },
        "id": "sSuKfzvOH-6a",
        "outputId": "4182c195-83c8-4f5c-8702-146a58141768"
      },
      "outputs": [
        {
          "output_type": "stream",
          "name": "stdout",
          "text": [
            "Overwriting luggage.cpp\n"
          ]
        }
      ],
      "source": [
        "%%writefile luggage.cpp\n",
        "\n",
        "#include <iostream>\n",
        "using namespace std;\n",
        "int main() {\n",
        "\tint weight;\n",
        "\tint delay;\n",
        "  int price;\n",
        "\n",
        "\tstd::cout << \"Enter the weight of your luggage:\";\n",
        "\tstd::cin >> weight;\n",
        "\n",
        "\tstd::cout << \"Enter the delay time you experience (in minutes):\";\n",
        "\tstd::cin >> delay;\n",
        "\n",
        "  std::cout << \"Enter the original price of your ticket:\";\n",
        "\tstd::cin >> price;\n",
        "\n",
        "  int penalty = price + (price * 15 / 100 );\n",
        "  int bonus = price - (price * 15 / 100);\n",
        "\n",
        "  if (weight > 40) {\n",
        "  cout << \"Your penalty is: \" << penalty;\n",
        "  }\n",
        "  else if (delay > 60) {\n",
        "  cout << \"Sorry for the delay, you only need to pay for:\" << bonus;\n",
        "  }\n",
        "  else {\n",
        "  cout << \"Price is the same.\";\n",
        "  }\n",
        "\n",
        "}"
      ]
    },
    {
      "cell_type": "code",
      "source": [
        "%%shell\n",
        "g++ luggage.cpp -o output\n",
        "./output"
      ],
      "metadata": {
        "colab": {
          "base_uri": "https://localhost:8080/"
        },
        "id": "_Vs83iVmK6jf",
        "outputId": "3643d0df-bdfc-490c-83c7-1e7504e88317"
      },
      "execution_count": null,
      "outputs": [
        {
          "output_type": "stream",
          "name": "stdout",
          "text": [
            "Enter the weight of your luggage:50\n",
            "Enter the delay time you experience (in minutes):20\n",
            "Enter the original price of your ticket:1000000\n",
            "Your penalty is: 1150000"
          ]
        },
        {
          "output_type": "execute_result",
          "data": {
            "text/plain": [
              ""
            ]
          },
          "metadata": {},
          "execution_count": 14
        }
      ]
    }
  ]
}