{
  "nbformat": 4,
  "nbformat_minor": 0,
  "metadata": {
    "colab": {
      "name": "bahasa_c",
      "provenance": [],
      "authorship_tag": "ABX9TyPO6fSNCDgKjbfssTk2Zoha",
      "include_colab_link": true
    },
    "kernelspec": {
      "name": "python3",
      "display_name": "Python 3"
    },
    "language_info": {
      "name": "python"
    }
  },
  "cells": [
    {
      "cell_type": "markdown",
      "metadata": {
        "id": "view-in-github",
        "colab_type": "text"
      },
      "source": [
        "<a href=\"https://colab.research.google.com/github/stmayna/smallproject/blob/main/luggage.ipynb\" target=\"_parent\"><img src=\"https://colab.research.google.com/assets/colab-badge.svg\" alt=\"Open In Colab\"/></a>"
      ]
    },
    {
      "cell_type": "markdown",
      "source": [
        "To know the final ticket price given the initial price (p), luggage weight (w), and delay time (t)."
      ],
      "metadata": {
        "id": "Nu-2BJ2wT3Hh"
      }
    },
    {
      "cell_type": "code",
      "execution_count": null,
      "metadata": {
        "colab": {
          "base_uri": "https://localhost:8080/"
        },
        "id": "sSuKfzvOH-6a",
        "outputId": "4182c195-83c8-4f5c-8702-146a58141768"
      },
      "outputs": [
        {
          "output_type": "stream",
          "name": "stdout",
          "text": [
            "Overwriting luggage.cpp\n"
          ]
        }
      ],
      "source": [
        "%%writefile luggage.cpp\n",
        "\n",
        "#include <iostream>\n",
        "using namespace std;\n",
        "int main() {\n",
        "\tint weight;\n",
        "\tint delay;\n",
        "  int price;\n",
        "\n",
        "\tstd::cout << \"Enter the weight of your luggage:\";\n",
        "\tstd::cin >> weight;\n",
        "\n",
        "\tstd::cout << \"Enter the delay time you experience (in minutes):\";\n",
        "\tstd::cin >> delay;\n",
        "\n",
        "  std::cout << \"Enter the original price of your ticket:\";\n",
        "\tstd::cin >> price;\n",
        "\n",
        "  int penalty = price + (price * 15 / 100 );\n",
        "  int bonus = price - (price * 15 / 100);\n",
        "\n",
        "  if (weight > 40) {\n",
        "  cout << \"Your penalty is: \" << penalty;\n",
        "  }\n",
        "  else if (delay > 60) {\n",
        "  cout << \"Sorry for the delay, you only need to pay for:\" << bonus;\n",
        "  }\n",
        "  else {\n",
        "  cout << \"Price is the same.\";\n",
        "  }\n",
        "\n",
        "}"
      ]
    },
    {
      "cell_type": "code",
      "source": [
        "from IPython.display import display, Javascript\n",
        "from google.colab.output import eval_js\n",
        "from base64 import b64decode\n",
        "\n",
        "def take_photo(filename='photo.jpg', quality=0.8):\n",
        "  js = Javascript('''\n",
        "    async function takePhoto(quality) {\n",
        "      const div = document.createElement('div');\n",
        "      const capture = document.createElement('button');\n",
        "      capture.textContent = 'Capture';\n",
        "      div.appendChild(capture);\n",
        "\n",
        "      const video = document.createElement('video');\n",
        "      video.style.display = 'block';\n",
        "      const stream = await navigator.mediaDevices.getUserMedia({video: true});\n",
        "\n",
        "      document.body.appendChild(div);\n",
        "      div.appendChild(video);\n",
        "      video.srcObject = stream;\n",
        "      await video.play();\n",
        "\n",
        "      // Resize the output to fit the video element.\n",
        "      google.colab.output.setIframeHeight(document.documentElement.scrollHeight, true);\n",
        "\n",
        "      // Wait for Capture to be clicked.\n",
        "      await new Promise((resolve) => capture.onclick = resolve);\n",
        "\n",
        "      const canvas = document.createElement('canvas');\n",
        "      canvas.width = video.videoWidth;\n",
        "      canvas.height = video.videoHeight;\n",
        "      canvas.getContext('2d').drawImage(video, 0, 0);\n",
        "      stream.getVideoTracks()[0].stop();\n",
        "      div.remove();\n",
        "      return canvas.toDataURL('image/jpeg', quality);\n",
        "    }\n",
        "    ''')\n",
        "  display(js)\n",
        "  data = eval_js('takePhoto({})'.format(quality))\n",
        "  binary = b64decode(data.split(',')[1])\n",
        "  with open(filename, 'wb') as f:\n",
        "    f.write(binary)\n",
        "  return filename"
      ],
      "metadata": {
        "id": "FCo_ORvWUbjH"
      },
      "execution_count": null,
      "outputs": []
    },
    {
      "cell_type": "code",
      "source": [
        "from IPython.display import Image\n",
        "try:\n",
        "  filename = take_photo()\n",
        "  print('Saved to {}'.format(filename))\n",
        "  \n",
        "  # Show the image which was just taken.\n",
        "  display(Image(filename))\n",
        "except Exception as err:\n",
        "  # Errors will be thrown if the user does not have a webcam or if they do not\n",
        "  # grant the page permission to access it.\n",
        "  print(str(err))"
      ],
      "metadata": {
        "id": "HT3IhNALUbjM"
      },
      "execution_count": null,
      "outputs": []
    },
    {
      "cell_type": "code",
      "source": [
        "%%shell\n",
        "g++ luggage.cpp -o output\n",
        "./output"
      ],
      "metadata": {
        "colab": {
          "base_uri": "https://localhost:8080/"
        },
        "id": "_Vs83iVmK6jf",
        "outputId": "3643d0df-bdfc-490c-83c7-1e7504e88317"
      },
      "execution_count": null,
      "outputs": [
        {
          "output_type": "stream",
          "name": "stdout",
          "text": [
            "Enter the weight of your luggage:50\n",
            "Enter the delay time you experience (in minutes):20\n",
            "Enter the original price of your ticket:1000000\n",
            "Your penalty is: 1150000"
          ]
        },
        {
          "output_type": "execute_result",
          "data": {
            "text/plain": [
              ""
            ]
          },
          "metadata": {},
          "execution_count": 14
        }
      ]
    }
  ]
}