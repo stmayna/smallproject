{
  "nbformat": 4,
  "nbformat_minor": 0,
  "metadata": {
    "colab": {
      "name": "tts.ipynb",
      "provenance": [],
      "authorship_tag": "ABX9TyO9YiHTAZQQPU1lU2mu/I7z",
      "include_colab_link": true
    },
    "kernelspec": {
      "name": "python3",
      "display_name": "Python 3"
    },
    "language_info": {
      "name": "python"
    }
  },
  "cells": [
    {
      "cell_type": "markdown",
      "metadata": {
        "id": "view-in-github",
        "colab_type": "text"
      },
      "source": [
        "<a href=\"https://colab.research.google.com/github/stmayna/smallproject/blob/main/tts.ipynb\" target=\"_parent\"><img src=\"https://colab.research.google.com/assets/colab-badge.svg\" alt=\"Open In Colab\"/></a>"
      ]
    },
    {
      "cell_type": "markdown",
      "source": [
        "BAB 3"
      ],
      "metadata": {
        "id": "3KFxXc6t9C3r"
      }
    },
    {
      "cell_type": "code",
      "source": [
        "# 2\n",
        "\n",
        "size = 5\n",
        "for i in range(size):\n",
        "    for j in range(1, size - i):\n",
        "        print(\" \", end=\"    \")\n",
        "    for k in range(12):\n",
        "        print(chr(65), end=\"\")\n",
        "    print()"
      ],
      "metadata": {
        "colab": {
          "base_uri": "https://localhost:8080/"
        },
        "id": "2eEJ5gk0ggfz",
        "outputId": "86a88179-95eb-460f-fd91-78f2372224c0"
      },
      "execution_count": 22,
      "outputs": [
        {
          "output_type": "stream",
          "name": "stdout",
          "text": [
            "                    AAAAAAAAAAAA\n",
            "               AAAAAAAAAAAA\n",
            "          AAAAAAAAAAAA\n",
            "     AAAAAAAAAAAA\n",
            "AAAAAAAAAAAA\n"
          ]
        }
      ]
    },
    {
      "cell_type": "code",
      "execution_count": 1,
      "metadata": {
        "colab": {
          "base_uri": "https://localhost:8080/"
        },
        "id": "oZGIRWfix7R4",
        "outputId": "cb5aaffd-a121-4a39-94ca-f44b6dcac8f4"
      },
      "outputs": [
        {
          "output_type": "stream",
          "name": "stdout",
          "text": [
            "Masukkan Jumlah Peserta: 5\n",
            "Masukkan seluruh nama peserta: nana nene nunu nene nina\n",
            "['nana', 'nene', 'nunu', 'nene', 'nina'] telah diundang\n"
          ]
        }
      ],
      "source": [
        "#3A: Pesta\n",
        "\n",
        "n = int(input('Masukkan Jumlah Peserta: ')) #Berapa kali namanya diulang\n",
        "if n<=10: #Syarat menampilkan nama hanya jika input angka kurang dari atau sama dengan 10\n",
        "    x = list(map(str, input(\"Masukkan seluruh nama peserta: \").split()))\n",
        "    print (f\"{x} telah diundang\")\n",
        "else: #Jika perulangan lebih dari 10 kali, maka akan mem-print kata berikut\n",
        "    print (\"Terlalu banyak orang\")"
      ]
    },
    {
      "cell_type": "code",
      "source": [
        "#3B: Segitiga siku-siku\n",
        "\n",
        "print(\"Input panjang sisi segitiga: \")\n",
        "a = int(input(\"a: \"))\n",
        "b = int(input(\"b: \"))\n",
        "c = int(input(\"c: \"))\n",
        "\n",
        "def right_angled(a, b, c):\n",
        "    if (a*a+b*b==c*c) or (c*c+b*b==a*a) or (a*a+c*c==b*b) :\n",
        "        return \"Segitiga ini merupakan segitiga siku-siku.\" \n",
        "    else:\n",
        "        return \"Segitiga ini bukan merupakan segitiga siku-siku.\"\n",
        "    \n",
        "print(right_angled(a, b, c))"
      ],
      "metadata": {
        "colab": {
          "base_uri": "https://localhost:8080/"
        },
        "id": "L0KQlC2Y2S_a",
        "outputId": "ec20b4dd-762a-4432-9cad-e6c4327c2edf"
      },
      "execution_count": 2,
      "outputs": [
        {
          "output_type": "stream",
          "name": "stdout",
          "text": [
            "Input panjang sisi segitiga: \n",
            "a: 3\n",
            "b: 4\n",
            "c: 5\n",
            "Segitiga ini merupakan segitiga siku-siku.\n"
          ]
        }
      ]
    },
    {
      "cell_type": "code",
      "source": [
        "# 4\n",
        "\n",
        "numlist = []\n",
        "num = int(input('Berapa banyak angka yang ingin dijumlahkan? '))\n",
        "for n in range(num):\n",
        "    numbers = int(input('Masukkan angka: '))\n",
        "    numlist.append(numbers)\n",
        "    total=sum(numlist)\n",
        "print(f\"Jumlah total dari angka yang dimasukkan adalah:{total}\".format(total))"
      ],
      "metadata": {
        "colab": {
          "base_uri": "https://localhost:8080/"
        },
        "id": "9RjlK78xcB2n",
        "outputId": "4b2cecc8-d6f9-4fad-b364-8bffa03ddb99"
      },
      "execution_count": 21,
      "outputs": [
        {
          "output_type": "stream",
          "name": "stdout",
          "text": [
            "Berapa banyak angka yang ingin dijumlahkan? 4\n",
            "Masukkan angka: 1\n",
            "Masukkan angka: 2\n",
            "Masukkan angka: 3\n",
            "Masukkan angka: 4\n",
            "Jumlah total dari angka yang dimasukkan adalah:10\n"
          ]
        }
      ]
    },
    {
      "cell_type": "code",
      "source": [
        "#5\n",
        "list_A= ['1','1', '3', '3', '7', '5', '15', '7', '31', '9', '63', '11']\n",
        "list_B= ['1', '4', '2', '4', '5', '4', '7', '6', '6', '10', '4', '8', '13', '5', '10']\n",
        "\n",
        "print(list_A)\n",
        "print(list_B)"
      ],
      "metadata": {
        "colab": {
          "base_uri": "https://localhost:8080/"
        },
        "id": "gO9Rr0jCaolH",
        "outputId": "b85b3400-4a35-4f9e-c2cf-6477c72dedad"
      },
      "execution_count": 20,
      "outputs": [
        {
          "output_type": "stream",
          "name": "stdout",
          "text": [
            "['1', '1', '3', '3', '7', '5', '15', '7', '31', '9', '63', '11']\n",
            "['1', '4', '2', '4', '5', '4', '7', '6', '6', '10', '4', '8', '13', '5', '10']\n"
          ]
        }
      ]
    },
    {
      "cell_type": "markdown",
      "source": [
        "BAB 4"
      ],
      "metadata": {
        "id": "r6eZ3DD99LZP"
      }
    },
    {
      "cell_type": "code",
      "source": [
        "#2: Asia Tenggara\n",
        "\n",
        "#Tuple 5 negara\n",
        "\n",
        "negara = ('Brunei','Filipina','Indonesia','Malaysia','Singapura',)\n",
        "print(negara) #print negara asia tenggara\n",
        "\n",
        "item = ['Laos'] #menambahkan 1 negara\n",
        "\n",
        "l = list(negara)\n",
        "\n",
        "for x in item:\n",
        "    l.append(x)\n",
        "print(l) #print nama negara setelah ditambah\n",
        "\n",
        "#Memilih negara favorit\n",
        "\n",
        "#Index negara\n",
        "#0: Brunei\n",
        "#1: Filipina\n",
        "#2: Indonesia\n",
        "#3: Malaysia\n",
        "#4: Singapura\n",
        "#5: Laos\n",
        "\n",
        "indices = [1] #Masukkan index negara favorit disini\n",
        "negaraterpilih = [l[index] for index in indices]\n",
        "print(f\"Negara favorit saya adalah {negaraterpilih}\") #print negara favorit"
      ],
      "metadata": {
        "colab": {
          "base_uri": "https://localhost:8080/"
        },
        "id": "Wemmx7pe9NdI",
        "outputId": "c75eccaa-cb4c-4030-f204-b4f281f92bb6"
      },
      "execution_count": 5,
      "outputs": [
        {
          "output_type": "stream",
          "name": "stdout",
          "text": [
            "('Brunei', 'Filipina', 'Indonesia', 'Malaysia', 'Singapura')\n",
            "['Brunei', 'Filipina', 'Indonesia', 'Malaysia', 'Singapura', 'Laos']\n",
            "Negara favorit saya adalah ['Filipina']\n"
          ]
        }
      ]
    },
    {
      "cell_type": "code",
      "source": [
        "# 3\n",
        "# Printing list on question number 2\n",
        "print (\"Negara di Asia tenggara : \" + str(l))\n",
        "  \n",
        "# use naive method\n",
        "# to get index and value\n",
        "print (\"Nomer urut dan nama negara : \")\n",
        "for i in range(len(l)):\n",
        "    print (i, end = \" \")\n",
        "    print (l[i])"
      ],
      "metadata": {
        "colab": {
          "base_uri": "https://localhost:8080/"
        },
        "id": "bOHfoGRf-8T3",
        "outputId": "7b2e595b-67ea-44aa-9c46-1557261dc11c"
      },
      "execution_count": 7,
      "outputs": [
        {
          "output_type": "stream",
          "name": "stdout",
          "text": [
            "Negara di Asia tenggara : ['Brunei', 'Filipina', 'Indonesia', 'Malaysia', 'Singapura', 'Laos']\n",
            "Nomer urut dan nama negara : \n",
            "0 Brunei\n",
            "1 Filipina\n",
            "2 Indonesia\n",
            "3 Malaysia\n",
            "4 Singapura\n",
            "5 Laos\n"
          ]
        }
      ]
    },
    {
      "cell_type": "code",
      "source": [
        "# 4\n",
        "\n",
        "subjects = ['math', 'physics','english', 'music', 'art']\n",
        "print(f\"List mata pelajaran: {subjects}\")\n",
        "print(\"Masukkan mata pelajaran yang tidak Anda sukai dari list!\")\n",
        "subject_dislike = input()\n",
        "subjects.remove(subject_dislike)\n",
        "print(f\"List mata pelajaran baru {subjects}\")"
      ],
      "metadata": {
        "colab": {
          "base_uri": "https://localhost:8080/"
        },
        "id": "9w68W2BYI1VW",
        "outputId": "08494eb7-5ea1-4a38-d691-a80d1262c188"
      },
      "execution_count": 8,
      "outputs": [
        {
          "output_type": "stream",
          "name": "stdout",
          "text": [
            "List mata pelajaran: ['math', 'physics', 'english', 'music', 'art']\n",
            "Masukkan mata pelajaran yang tidak Anda sukai dari list!\n",
            "english\n",
            "List mata pelajaran baru ['math', 'physics', 'music', 'art']\n"
          ]
        }
      ]
    }
  ]
}